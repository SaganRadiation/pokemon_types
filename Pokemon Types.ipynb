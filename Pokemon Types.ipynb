{
 "cells": [
  {
   "cell_type": "markdown",
   "id": "66eeb22c-c399-4c39-84ca-abd87112f18c",
   "metadata": {},
   "source": [
    "# Input"
   ]
  },
  {
   "cell_type": "code",
   "execution_count": 10,
   "id": "5f0196f2-2aef-43e2-98ec-cb9f2a1f6be5",
   "metadata": {},
   "outputs": [],
   "source": [
    "type_chart = '''\n",
    "Normal:   X X X X X X X X X X X X R I X X R X\n",
    "Fire:     X R R S X S X X X X X S R X R X S X\n",
    "Water:    X S R R X X X X S X X X S X R X X X \n",
    "Grass:    X R S R X X X R S R X R S X R X R X\n",
    "Electric: X X S R R X X X I S X X X X R X X X\n",
    "Ice:      X R R S X R X X S S X X X X S X R X\n",
    "Fighting: S X X X X S X R X R R R S I X S S R\n",
    "Poison:   X X X S X X X R R X X X R R X X I S\n",
    "Ground:   X S X R S X X S X I X R S X X X S X\n",
    "Flying:   X X X S R X S X X X X S R X X X R X\n",
    "Psychic:  X X X X X X S S X X R X X X X I R S\n",
    "Bug:      X R X S X X R R X R S X X R X S R R\n",
    "Rock:     X S X X X S R X R S X S X X X X R X\n",
    "Ghost:    I X X X X X X X X X S X X S X R X X\n",
    "Dragon:   X X X X X X X X X X X X X X S X R I\n",
    "Dark:     X X X X X X R X X X S X X S X R X R\n",
    "Steel:    X R R X R S X X X X X X S X X X R S\n",
    "Fariy:    X R X X X X S R X X X X X X S S R X\n",
    "'''.strip()\n",
    "   "
   ]
  },
  {
   "cell_type": "code",
   "execution_count": 11,
   "id": "f2b38d94-bbc9-4003-9ddf-6be62f217bb7",
   "metadata": {},
   "outputs": [
    {
     "name": "stdout",
     "output_type": "stream",
     "text": [
      "Normal:                           R I     R  \n",
      "Fire:       R R S   S           S R   R   S  \n",
      "Water:      S R R         S       S   R       \n",
      "Grass:      R S R       R S R   R S   R   R  \n",
      "Electric:     S R R       I S         R      \n",
      "Ice:        R R S   R     S S         S   R  \n",
      "Fighting: S         S   R   R R R S I   S S R\n",
      "Poison:         S       R R       R R     I S\n",
      "Ground:     S   R S     S   I   R S       S  \n",
      "Flying:         S R   S         S R       R  \n",
      "Psychic:              S S     R         I R S\n",
      "Bug:        R   S     R R   R S     R   S R R\n",
      "Rock:       S       S R   R S   S         R  \n",
      "Ghost:    I                   S     S   R    \n",
      "Dragon:                               S   R I\n",
      "Dark:                 R       S     S   R   R\n",
      "Steel:      R R   R S             S       R S\n",
      "Fariy:      R         S R             S S R  \n"
     ]
    }
   ],
   "source": [
    "print(type_chart.replace('X',' '))"
   ]
  },
  {
   "cell_type": "code",
   "execution_count": 18,
   "id": "d63f3acf-c103-40aa-a0dd-afdbae43a8fe",
   "metadata": {},
   "outputs": [],
   "source": [
    "labels = []\n",
    "data = []\n",
    "for line in type_chart.split('\\n'):\n",
    "    label, datum = line.split(':')\n",
    "    labels.append(label)\n",
    "    data.append(datum.strip().split())"
   ]
  },
  {
   "cell_type": "markdown",
   "id": "5789a07a-d6a3-4867-abdc-12586fceec62",
   "metadata": {},
   "source": [
    "## Simple Problem: Most / Least Weaknesses"
   ]
  },
  {
   "cell_type": "code",
   "execution_count": 52,
   "id": "749877c9-8836-481e-b70f-7f4d2e0a5bf8",
   "metadata": {},
   "outputs": [],
   "source": [
    "def get_weaknesses(line):\n",
    "    types = [labels[i] for i,x in enumerate(line) if x == 'S']\n",
    "    return len(types), f'{len(types)} ({\", \".join(types)})'"
   ]
  },
  {
   "cell_type": "code",
   "execution_count": 53,
   "id": "2f71641b-bc3d-41e0-8c8d-1f0ec4bbfdeb",
   "metadata": {},
   "outputs": [],
   "source": [
    "defensive_data = [list(i) for i in zip(*data)]"
   ]
  },
  {
   "cell_type": "code",
   "execution_count": 54,
   "id": "eafad82f-2cc4-473e-bcbd-d0733da0dd51",
   "metadata": {},
   "outputs": [],
   "source": [
    "type_to_weaknesses = list(zip(labels, [get_weaknesses(x) for x in defensive_data]))"
   ]
  },
  {
   "cell_type": "code",
   "execution_count": 55,
   "id": "deb11f6e-1938-4efb-ae6c-3785c1ca8b04",
   "metadata": {},
   "outputs": [
    {
     "name": "stdout",
     "output_type": "stream",
     "text": [
      "Grass: 5 (Fire, Ice, Poison, Flying, Bug)\n",
      "Rock: 5 (Water, Grass, Fighting, Ground, Steel)\n",
      "Ice: 4 (Fire, Fighting, Rock, Steel)\n",
      "Fire: 3 (Water, Ground, Rock)\n",
      "Fighting: 3 (Flying, Psychic, Fariy)\n",
      "Ground: 3 (Water, Grass, Ice)\n",
      "Flying: 3 (Electric, Ice, Rock)\n",
      "Psychic: 3 (Bug, Ghost, Dark)\n",
      "Bug: 3 (Fire, Flying, Rock)\n",
      "Dragon: 3 (Ice, Dragon, Fariy)\n",
      "Dark: 3 (Fighting, Bug, Fariy)\n",
      "Steel: 3 (Fire, Fighting, Ground)\n",
      "Fariy: 3 (Poison, Psychic, Steel)\n",
      "Water: 2 (Grass, Electric)\n",
      "Poison: 2 (Ground, Psychic)\n",
      "Ghost: 2 (Ghost, Dark)\n",
      "Normal: 1 (Fighting)\n",
      "Electric: 1 (Ground)\n"
     ]
    }
   ],
   "source": [
    "for type, (count, label) in sorted(type_to_weaknesses, key = lambda x:x[1][0], reverse=True):\n",
    "    print(f'{type}: {label}')"
   ]
  },
  {
   "cell_type": "code",
   "execution_count": null,
   "id": "5282af24-5fed-4815-be1b-85e681547267",
   "metadata": {},
   "outputs": [],
   "source": []
  }
 ],
 "metadata": {
  "kernelspec": {
   "display_name": "Python 3 (ipykernel)",
   "language": "python",
   "name": "python3"
  },
  "language_info": {
   "codemirror_mode": {
    "name": "ipython",
    "version": 3
   },
   "file_extension": ".py",
   "mimetype": "text/x-python",
   "name": "python",
   "nbconvert_exporter": "python",
   "pygments_lexer": "ipython3",
   "version": "3.11.6"
  }
 },
 "nbformat": 4,
 "nbformat_minor": 5
}
