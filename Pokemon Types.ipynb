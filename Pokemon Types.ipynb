{
 "cells": [
  {
   "cell_type": "markdown",
   "id": "66eeb22c-c399-4c39-84ca-abd87112f18c",
   "metadata": {},
   "source": [
    "# Input"
   ]
  },
  {
   "cell_type": "code",
   "execution_count": 6,
   "id": "5f0196f2-2aef-43e2-98ec-cb9f2a1f6be5",
   "metadata": {},
   "outputs": [],
   "source": [
    "type_chart = '''\n",
    "Normal:   X X X X X X X X X X X X R I X X R X\n",
    "Fire:     X R R S X S X X X X X S R X R X S X\n",
    "Water:    X S R R X X X X S X X X S X R X X X \n",
    "Grass:    X R S R X X X R S R X R S X R X R X\n",
    "Electric: X X S R R X X X I S X X X X R X X X\n",
    "Ice:      X R R S X R X X S S X X X X S X R X\n",
    "Fighting: S X X X X S X R X R R R S I X S S R\n",
    "Poison:   X X X S X X X R R X X X R R X X I S\n",
    "Ground:   X S X R S X X S X I X R S X X X S X\n",
    "Flying:   X X X S R X S X X X X S R X X X R X\n",
    "Psychic:  X X X X X X S S X X R X X X X I R S\n",
    "Bug:      X R X S X X R R X R S X X R X S R R\n",
    "Rock:     X S X X X S R X R S X S X X X X R X\n",
    "Ghost:    I X X X X X X X X X S X X S X R X X\n",
    "Dragon:   X X X X X X X X X X X X X X S X R I\n",
    "Dark:     X X X X X X R X X X S X X S X R X R\n",
    "Steel:    X R R X R S X X X X X X S X X X R S\n",
    "Fariy:    X R X X X X S R X X X X X X S S R X\n",
    "'''\n",
    "   "
   ]
  },
  {
   "cell_type": "code",
   "execution_count": 5,
   "id": "f2b38d94-bbc9-4003-9ddf-6be62f217bb7",
   "metadata": {},
   "outputs": [
    {
     "name": "stdout",
     "output_type": "stream",
     "text": [
      "\n",
      "Normal:                           R I     R  \n",
      "Fire:       R R S   S           S R   R   S  \n",
      "Water:      S R R         S       S   R       \n",
      "Grass:      R S R       R S R   R S   R   R  \n",
      "Electric:     S R R       I S         R      \n",
      "Ice:        R R S   R     S S         S   R  \n",
      "Fighting: S         S   R   R R R S I   S S R\n",
      "Poison:         S       R R       R R     I S\n",
      "Ground:     S   R S     S   I   R S       S  \n",
      "Flying:         S R   S         S R       R  \n",
      "Psychic:              S S     R         I R S\n",
      "Bug:        R   S     R R   R S     R   S R R\n",
      "Rock:       S       S R   R S   S         R  \n",
      "Ghost:    I                   S     S   R    \n",
      "Dragon:                               S   R I\n",
      "Dark:                 R       S     S   R   R\n",
      "Steel:      R R   R S             S       R S\n",
      "Fariy:      R         S R             S S R  \n",
      "\n"
     ]
    }
   ],
   "source": [
    "print(type_chart.replace('X',' '))"
   ]
  }
 ],
 "metadata": {
  "kernelspec": {
   "display_name": "Python 3 (ipykernel)",
   "language": "python",
   "name": "python3"
  },
  "language_info": {
   "codemirror_mode": {
    "name": "ipython",
    "version": 3
   },
   "file_extension": ".py",
   "mimetype": "text/x-python",
   "name": "python",
   "nbconvert_exporter": "python",
   "pygments_lexer": "ipython3",
   "version": "3.11.6"
  }
 },
 "nbformat": 4,
 "nbformat_minor": 5
}
