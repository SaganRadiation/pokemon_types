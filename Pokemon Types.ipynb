{
 "cells": [
  {
   "cell_type": "markdown",
   "id": "66eeb22c-c399-4c39-84ca-abd87112f18c",
   "metadata": {},
   "source": [
    "# Input"
   ]
  },
  {
   "cell_type": "code",
   "execution_count": 156,
   "id": "5f0196f2-2aef-43e2-98ec-cb9f2a1f6be5",
   "metadata": {},
   "outputs": [],
   "source": [
    "type_chart = '''\n",
    "Normal:   X X X X X X X X X X X X R I X X R X\n",
    "Fire:     X R R S X S X X X X X S R X R X S X\n",
    "Water:    X S R R X X X X S X X X S X R X X X \n",
    "Grass:    X R S R X X X R S R X R S X R X R X\n",
    "Electric: X X S R R X X X I S X X X X R X X X\n",
    "Ice:      X R R S X R X X S S X X X X S X R X\n",
    "Fighting: S X X X X S X R X R R R S I X S S R\n",
    "Poison:   X X X S X X X R R X X X R R X X I S\n",
    "Ground:   X S X R S X X S X I X R S X X X S X\n",
    "Flying:   X X X S R X S X X X X S R X X X R X\n",
    "Psychic:  X X X X X X S S X X R X X X X I R S\n",
    "Bug:      X R X S X X R R X R S X X R X S R R\n",
    "Rock:     X S X X X S R X R S X S X X X X R X\n",
    "Ghost:    I X X X X X X X X X S X X S X R X X\n",
    "Dragon:   X X X X X X X X X X X X X X S X R I\n",
    "Dark:     X X X X X X R X X X S X X S X R X R\n",
    "Steel:    X R R X R S X X X X X X S X X X R S\n",
    "Fairy:    X R X X X X S R X X X X X X S S R X\n",
    "'''.strip()\n",
    "   "
   ]
  },
  {
   "cell_type": "code",
   "execution_count": 157,
   "id": "f2b38d94-bbc9-4003-9ddf-6be62f217bb7",
   "metadata": {},
   "outputs": [
    {
     "name": "stdout",
     "output_type": "stream",
     "text": [
      "Normal:                           R I     R  \n",
      "Fire:       R R S   S           S R   R   S  \n",
      "Water:      S R R         S       S   R       \n",
      "Grass:      R S R       R S R   R S   R   R  \n",
      "Electric:     S R R       I S         R      \n",
      "Ice:        R R S   R     S S         S   R  \n",
      "Fighting: S         S   R   R R R S I   S S R\n",
      "Poison:         S       R R       R R     I S\n",
      "Ground:     S   R S     S   I   R S       S  \n",
      "Flying:         S R   S         S R       R  \n",
      "Psychic:              S S     R         I R S\n",
      "Bug:        R   S     R R   R S     R   S R R\n",
      "Rock:       S       S R   R S   S         R  \n",
      "Ghost:    I                   S     S   R    \n",
      "Dragon:                               S   R I\n",
      "Dark:                 R       S     S   R   R\n",
      "Steel:      R R   R S             S       R S\n",
      "Fairy:      R         S R             S S R  \n"
     ]
    }
   ],
   "source": [
    "print(type_chart.replace('X',' '))"
   ]
  },
  {
   "cell_type": "code",
   "execution_count": 158,
   "id": "d63f3acf-c103-40aa-a0dd-afdbae43a8fe",
   "metadata": {},
   "outputs": [],
   "source": [
    "labels = []\n",
    "data = []\n",
    "for line in type_chart.split('\\n'):\n",
    "    label, datum = line.split(':')\n",
    "    labels.append(label)\n",
    "    data.append(datum.strip().split())"
   ]
  },
  {
   "cell_type": "markdown",
   "id": "5789a07a-d6a3-4867-abdc-12586fceec62",
   "metadata": {},
   "source": [
    "## Simple Problem: Most / Least Weaknesses"
   ]
  },
  {
   "cell_type": "code",
   "execution_count": 159,
   "id": "749877c9-8836-481e-b70f-7f4d2e0a5bf8",
   "metadata": {},
   "outputs": [],
   "source": [
    "def get_weaknesses(line):\n",
    "    types = [labels[i] for i,x in enumerate(line) if x == 'S']\n",
    "    return len(types), f'{len(types)} ({\", \".join(types)})'"
   ]
  },
  {
   "cell_type": "code",
   "execution_count": 160,
   "id": "2f71641b-bc3d-41e0-8c8d-1f0ec4bbfdeb",
   "metadata": {},
   "outputs": [],
   "source": [
    "defensive_data = [list(i) for i in zip(*data)]"
   ]
  },
  {
   "cell_type": "code",
   "execution_count": 161,
   "id": "eafad82f-2cc4-473e-bcbd-d0733da0dd51",
   "metadata": {},
   "outputs": [],
   "source": [
    "type_to_weaknesses = list(zip(labels, [get_weaknesses(x) for x in defensive_data]))"
   ]
  },
  {
   "cell_type": "code",
   "execution_count": 162,
   "id": "deb11f6e-1938-4efb-ae6c-3785c1ca8b04",
   "metadata": {},
   "outputs": [
    {
     "name": "stdout",
     "output_type": "stream",
     "text": [
      "Grass: 5 (Fire, Ice, Poison, Flying, Bug)\n",
      "Rock: 5 (Water, Grass, Fighting, Ground, Steel)\n",
      "Ice: 4 (Fire, Fighting, Rock, Steel)\n",
      "Fire: 3 (Water, Ground, Rock)\n",
      "Fighting: 3 (Flying, Psychic, Fairy)\n",
      "Ground: 3 (Water, Grass, Ice)\n",
      "Flying: 3 (Electric, Ice, Rock)\n",
      "Psychic: 3 (Bug, Ghost, Dark)\n",
      "Bug: 3 (Fire, Flying, Rock)\n",
      "Dragon: 3 (Ice, Dragon, Fairy)\n",
      "Dark: 3 (Fighting, Bug, Fairy)\n",
      "Steel: 3 (Fire, Fighting, Ground)\n",
      "Fairy: 3 (Poison, Psychic, Steel)\n",
      "Water: 2 (Grass, Electric)\n",
      "Poison: 2 (Ground, Psychic)\n",
      "Ghost: 2 (Ghost, Dark)\n",
      "Normal: 1 (Fighting)\n",
      "Electric: 1 (Ground)\n"
     ]
    }
   ],
   "source": [
    "for type, (count, label) in sorted(type_to_weaknesses, key = lambda x:x[1][0], reverse=True):\n",
    "    print(f'{type}: {label}')"
   ]
  },
  {
   "cell_type": "markdown",
   "id": "0682be59-68db-42b1-bfe5-5c779b0dceab",
   "metadata": {},
   "source": [
    "## Most offensive types"
   ]
  },
  {
   "cell_type": "markdown",
   "id": "7f64c750-2652-4d57-a025-7f190a6c197f",
   "metadata": {},
   "source": [
    "Simple example to start off: Fire, Water, Grass, Ice."
   ]
  },
  {
   "cell_type": "code",
   "execution_count": 163,
   "id": "72e2301e-817c-4524-8b20-1b17751939a4",
   "metadata": {},
   "outputs": [],
   "source": [
    "from numpy import linalg as LA"
   ]
  },
  {
   "cell_type": "code",
   "execution_count": 164,
   "id": "e1ba135f-2d22-4e45-b4f3-c7c1655e38b0",
   "metadata": {},
   "outputs": [],
   "source": [
    "simple_matrix = [[0.5,0.5,2,2],\n",
    "                 [2,0.5,0.5,1],\n",
    "                 [0.5, 2, 0.5, 1],\n",
    "                 [0.5, 0.5, 2, 0.5]]"
   ]
  },
  {
   "cell_type": "code",
   "execution_count": 165,
   "id": "de0f7d34-4bd1-4f0c-89e4-1411df9c8661",
   "metadata": {},
   "outputs": [],
   "source": [
    "ev = LA.eig(simple_matrix).eigenvectors"
   ]
  },
  {
   "cell_type": "code",
   "execution_count": 166,
   "id": "904fa5d8-696c-4b43-9b01-e02396de52a5",
   "metadata": {},
   "outputs": [
    {
     "data": {
      "text/plain": [
       "(4.075960681792031+0j)"
      ]
     },
     "execution_count": 166,
     "metadata": {},
     "output_type": "execute_result"
    }
   ],
   "source": [
    "LA.eig(simple_matrix).eigenvalues[0]"
   ]
  },
  {
   "cell_type": "code",
   "execution_count": 167,
   "id": "1f0e3567-e5ca-4f11-b278-6127fc79e2f7",
   "metadata": {},
   "outputs": [
    {
     "data": {
      "text/plain": [
       "[2.3492, 2.069, 1.9659, 1.7173]"
      ]
     },
     "execution_count": 167,
     "metadata": {},
     "output_type": "execute_result"
    }
   ],
   "source": [
    "[round(x.real, 4) for x in np.matmul(simple_matrix,ev[:,0])]"
   ]
  },
  {
   "cell_type": "markdown",
   "id": "6a4fbd38-027a-4768-8b53-87b0bd3604fe",
   "metadata": {},
   "source": [
    "OK, real example now."
   ]
  },
  {
   "cell_type": "code",
   "execution_count": 168,
   "id": "3957f130-7071-4637-a5c6-6cc68673e609",
   "metadata": {},
   "outputs": [],
   "source": [
    "CONSTANT_MAP = {'X': 1, 'R': 0.5, 'I': 0, 'S': 2}"
   ]
  },
  {
   "cell_type": "code",
   "execution_count": 169,
   "id": "5fb4f2cf-fe4d-494a-a738-5c97b70a88c9",
   "metadata": {},
   "outputs": [],
   "source": [
    "matrix = np.array([[CONSTANT_MAP[x] for x in line] for line in data])"
   ]
  },
  {
   "cell_type": "code",
   "execution_count": 170,
   "id": "7a5302da-3156-49e0-8d31-6e474deffd3f",
   "metadata": {},
   "outputs": [],
   "source": [
    "ev = LA.eig(matrix).eigenvectors"
   ]
  },
  {
   "cell_type": "code",
   "execution_count": 171,
   "id": "f368d2de-f0d6-4faa-b582-1c3e11a2468f",
   "metadata": {},
   "outputs": [
    {
     "data": {
      "text/plain": [
       "(18.772870315699883+0j)"
      ]
     },
     "execution_count": 171,
     "metadata": {},
     "output_type": "execute_result"
    }
   ],
   "source": [
    "LA.eig(matrix).eigenvalues[0]"
   ]
  },
  {
   "cell_type": "code",
   "execution_count": 172,
   "id": "59bca804-4d8e-459f-a151-b82c89f9e059",
   "metadata": {},
   "outputs": [
    {
     "data": {
      "text/plain": [
       "[1.0,\n",
       " 1.2473,\n",
       " 1.2417,\n",
       " 1.1196,\n",
       " 1.101,\n",
       " 1.2497,\n",
       " 1.2263,\n",
       " 1.0604,\n",
       " 1.3189,\n",
       " 1.2161,\n",
       " 1.19,\n",
       " 1.0911,\n",
       " 1.2847,\n",
       " 1.1701,\n",
       " 1.0896,\n",
       " 1.1582,\n",
       " 1.2009,\n",
       " 1.2201]"
      ]
     },
     "execution_count": 172,
     "metadata": {},
     "output_type": "execute_result"
    }
   ],
   "source": [
    "ans = [x.real  for x in np.matmul(matrix,ev[:,0])]\n",
    "ans = ans / min(ans)\n",
    "ans = [round(x,4) for x in ans]\n",
    "ans"
   ]
  },
  {
   "cell_type": "code",
   "execution_count": 249,
   "id": "6a4e9bde-30a0-42da-9532-b6a048c61853",
   "metadata": {},
   "outputs": [],
   "source": [
    "def analyze_offense0(ans, data, labels, i):\n",
    "    str_begin = '{:<9}'.format(labels[i]+':') + ' ' + '{:<6}'.format(str(ans[i]))\n",
    "    vals = [ans[j] * data[i][j] for j in range(len(ans))]\n",
    "    top3_ind = np.argpartition(vals,-3)[-3:]\n",
    "    top3_ind_sort = reversed(top3_ind[np.argsort(np.array(vals)[top3_ind])])\n",
    "    top3_types = ['{:<9}'.format(labels[x]+':') + '{:<6}'.format(str(vals[x])) for x in top3_ind_sort]\n",
    "    return str_begin + ' ('+ ', '.join(top3_types) + ')'"
   ]
  },
  {
   "cell_type": "code",
   "execution_count": 250,
   "id": "32c9805c-5bbb-4b2b-ae58-80fc3c6810a9",
   "metadata": {},
   "outputs": [],
   "source": [
    "a = ['S', 'S', 'R', 'X', 'S']"
   ]
  },
  {
   "cell_type": "code",
   "execution_count": null,
   "id": "9abead24-526a-4d28-bd68-3a23d2695f0c",
   "metadata": {},
   "outputs": [],
   "source": [
    "def analyze_offense0(ans, data, labels, i):\n",
    "    str_begin = '{:<9}'.format(labels[i]+':') + ' ' + '{:<6}'.format(str(ans[i]))\n",
    "    vals = [ans[j] * data[i][j] for j in range(len(ans))]\n",
    "    top3_ind = np.argpartition(vals,-3)[-3:]\n",
    "    top3_ind_sort = reversed(top3_ind[np.argsort(np.array(vals)[top3_ind])])\n",
    "    top3_types = ['{:<9}'.format(labels[x]+':') + '{:<6}'.format(str(vals[x])) for x in top3_ind_sort]\n",
    "    return str_begin + ' ('+ ', '.join(top3_types) + ')'"
   ]
  },
  {
   "cell_type": "code",
   "execution_count": 349,
   "id": "1b4ae346-3618-42be-9a54-7514182f40f3",
   "metadata": {},
   "outputs": [],
   "source": [
    "def get_annotated_labels(indices, ans, data, matrix, labels, i, header):\n",
    "    indices = np.array(indices)\n",
    "    vals = np.array([ans[j] * matrix[i][j] for j in range(len(ans))])\n",
    "    indices_sort = reversed(indices[np.argsort(vals[indices])]) if indices.size > 0 else []\n",
    "    if not indices_sort:\n",
    "        return ''\n",
    "    return header + ': ' + ', '.join(labels[x]+'(' + str(ans[x]) + ')' for x in indices_sort)"
   ]
  },
  {
   "cell_type": "code",
   "execution_count": 350,
   "id": "684996f6-ea7e-4260-8435-1896100116ef",
   "metadata": {},
   "outputs": [],
   "source": [
    "def analyze_offense1(ans, data, matrix, labels, i):\n",
    "    str_begin = '{:<9}'.format(labels[i]+':') + ' ' + '{:<6}'.format(str(ans[i]))\n",
    "    strong_indices = np.array([i for i,x in enumerate(data[i]) if x == 'S'])\n",
    "    resisted_indices = np.array([i for i,x in enumerate(data[i]) if x == 'R'])\n",
    "    immune_indices = np.array([i for i,x in enumerate(data[i]) if x == 'I'])\n",
    "    strong_labels=get_annotated_labels(strong_indices, ans, data, matrix, labels, i, 'Strong')\n",
    "    resisted_labels=get_annotated_labels(resisted_indices, ans, data, matrix, labels, i, 'Resisted')\n",
    "    immune_labels=get_annotated_labels(immune_indices, ans, data, matrix, labels, i, 'Immune')\n",
    "    additional_info = [strong_labels, resisted_labels, immune_labels]\n",
    "    additional_info = [x for x in additional_info if x]\n",
    "    return str_begin + '  ' + '\\n                  '.join(additional_info)\n",
    "        "
   ]
  },
  {
   "cell_type": "code",
   "execution_count": 351,
   "id": "741a0c21-9ecf-47d8-9753-97fa5b1f395c",
   "metadata": {},
   "outputs": [
    {
     "name": "stdout",
     "output_type": "stream",
     "text": [
      "Ground:   1.3189  Strong: Rock(1.2847), Fire(1.2473), Steel(1.2009), Electric(1.101), Poison(1.0604)\n",
      "                  Resisted: Grass(1.1196), Bug(1.0911)\n",
      "                  Immune: Flying(1.2161)\n",
      "Rock:     1.2847  Strong: Ice(1.2497), Fire(1.2473), Flying(1.2161), Bug(1.0911)\n",
      "                  Resisted: Ground(1.3189), Fighting(1.2263), Steel(1.2009)\n",
      "Ice:      1.2497  Strong: Ground(1.3189), Flying(1.2161), Grass(1.1196), Dragon(1.0896)\n",
      "                  Resisted: Ice(1.2497), Fire(1.2473), Water(1.2417), Steel(1.2009)\n",
      "Fire:     1.2473  Strong: Ice(1.2497), Steel(1.2009), Grass(1.1196), Bug(1.0911)\n",
      "                  Resisted: Rock(1.2847), Fire(1.2473), Water(1.2417), Dragon(1.0896)\n",
      "Water:    1.2417  Strong: Ground(1.3189), Rock(1.2847), Fire(1.2473)\n",
      "                  Resisted: Water(1.2417), Grass(1.1196), Dragon(1.0896)\n",
      "Fighting: 1.2263  Strong: Rock(1.2847), Ice(1.2497), Steel(1.2009), Dark(1.1582), Normal(1.0)\n",
      "                  Resisted: Fairy(1.2201), Flying(1.2161), Psychic(1.19), Bug(1.0911), Poison(1.0604)\n",
      "                  Immune: Ghost(1.1701)\n",
      "Fairy:    1.2201  Strong: Fighting(1.2263), Dark(1.1582), Dragon(1.0896)\n",
      "                  Resisted: Fire(1.2473), Steel(1.2009), Poison(1.0604)\n",
      "Flying:   1.2161  Strong: Fighting(1.2263), Grass(1.1196), Bug(1.0911)\n",
      "                  Resisted: Rock(1.2847), Steel(1.2009), Electric(1.101)\n",
      "Steel:    1.2009  Strong: Rock(1.2847), Ice(1.2497), Fairy(1.2201)\n",
      "                  Resisted: Fire(1.2473), Water(1.2417), Steel(1.2009), Electric(1.101)\n",
      "Psychic:  1.19    Strong: Fighting(1.2263), Fairy(1.2201), Poison(1.0604)\n",
      "                  Resisted: Steel(1.2009), Psychic(1.19)\n",
      "                  Immune: Dark(1.1582)\n",
      "Ghost:    1.1701  Strong: Psychic(1.19), Ghost(1.1701)\n",
      "                  Resisted: Dark(1.1582)\n",
      "                  Immune: Normal(1.0)\n",
      "Dark:     1.1582  Strong: Psychic(1.19), Ghost(1.1701)\n",
      "                  Resisted: Fighting(1.2263), Fairy(1.2201), Dark(1.1582)\n",
      "Grass:    1.1196  Strong: Ground(1.3189), Rock(1.2847), Water(1.2417)\n",
      "                  Resisted: Fire(1.2473), Flying(1.2161), Steel(1.2009), Grass(1.1196), Bug(1.0911), Dragon(1.0896), Poison(1.0604)\n",
      "Electric: 1.101   Strong: Water(1.2417), Flying(1.2161)\n",
      "                  Resisted: Grass(1.1196), Electric(1.101), Dragon(1.0896)\n",
      "                  Immune: Ground(1.3189)\n",
      "Bug:      1.0911  Strong: Psychic(1.19), Dark(1.1582), Grass(1.1196)\n",
      "                  Resisted: Fire(1.2473), Fighting(1.2263), Fairy(1.2201), Flying(1.2161), Steel(1.2009), Ghost(1.1701), Poison(1.0604)\n",
      "Dragon:   1.0896  Strong: Dragon(1.0896)\n",
      "                  Resisted: Steel(1.2009)\n",
      "                  Immune: Fairy(1.2201)\n",
      "Poison:   1.0604  Strong: Fairy(1.2201), Grass(1.1196)\n",
      "                  Resisted: Ground(1.3189), Rock(1.2847), Ghost(1.1701), Poison(1.0604)\n",
      "                  Immune: Steel(1.2009)\n",
      "Normal:   1.0     Resisted: Rock(1.2847), Steel(1.2009)\n",
      "                  Immune: Ghost(1.1701)\n"
     ]
    }
   ],
   "source": [
    "analysis = [(x, analyze_offense1(ans, data, matrix, labels, i)) for i, x in enumerate(ans)]\n",
    "for _, s in sorted(analysis, reverse=True):\n",
    "    print(s)"
   ]
  },
  {
   "cell_type": "markdown",
   "id": "a250db82-4878-46db-9d6d-9a179570fcfd",
   "metadata": {},
   "source": [
    "## Most defensive types"
   ]
  },
  {
   "cell_type": "code",
   "execution_count": 386,
   "id": "b7d09ee8-6ad1-47ec-8246-6947b1a4382e",
   "metadata": {},
   "outputs": [],
   "source": [
    "CONSTANT_MAP = {'X': 1, 'R': 2, 'I': 3, 'S': 0.5}"
   ]
  },
  {
   "cell_type": "code",
   "execution_count": 387,
   "id": "b36f98f8-db81-434d-9d5f-f394d532b1b9",
   "metadata": {},
   "outputs": [],
   "source": [
    "data_t = list(map(list, zip(*data)))"
   ]
  },
  {
   "cell_type": "code",
   "execution_count": 388,
   "id": "0788a422-2d5c-4be4-a957-4e8b51e75ced",
   "metadata": {},
   "outputs": [],
   "source": [
    "matrix = np.array([[CONSTANT_MAP[x] for x in line] for line in data_t])"
   ]
  },
  {
   "cell_type": "code",
   "execution_count": 398,
   "id": "5c8eac4e-ebf5-4bfd-a1bd-866c3cc93d84",
   "metadata": {},
   "outputs": [
    {
     "data": {
      "text/plain": [
       "array([[1. , 1. , 1. , 1. , 1. , 1. , 0.5, 1. , 1. , 1. , 1. , 1. , 1. ,\n",
       "        3. , 1. , 1. , 1. , 1. ],\n",
       "       [1. , 2. , 0.5, 2. , 1. , 2. , 1. , 1. , 0.5, 1. , 1. , 2. , 0.5,\n",
       "        1. , 1. , 1. , 2. , 2. ],\n",
       "       [1. , 2. , 2. , 0.5, 0.5, 2. , 1. , 1. , 1. , 1. , 1. , 1. , 1. ,\n",
       "        1. , 1. , 1. , 2. , 1. ],\n",
       "       [1. , 0.5, 2. , 2. , 2. , 0.5, 1. , 0.5, 2. , 0.5, 1. , 0.5, 1. ,\n",
       "        1. , 1. , 1. , 1. , 1. ],\n",
       "       [1. , 1. , 1. , 1. , 2. , 1. , 1. , 1. , 0.5, 2. , 1. , 1. , 1. ,\n",
       "        1. , 1. , 1. , 2. , 1. ],\n",
       "       [1. , 0.5, 1. , 1. , 1. , 2. , 0.5, 1. , 1. , 1. , 1. , 1. , 0.5,\n",
       "        1. , 1. , 1. , 0.5, 1. ],\n",
       "       [1. , 1. , 1. , 1. , 1. , 1. , 1. , 1. , 1. , 0.5, 0.5, 2. , 2. ,\n",
       "        1. , 1. , 2. , 1. , 0.5],\n",
       "       [1. , 1. , 1. , 2. , 1. , 1. , 2. , 2. , 0.5, 1. , 0.5, 2. , 1. ,\n",
       "        1. , 1. , 1. , 1. , 2. ],\n",
       "       [1. , 1. , 0.5, 0.5, 3. , 0.5, 1. , 2. , 1. , 1. , 1. , 1. , 2. ,\n",
       "        1. , 1. , 1. , 1. , 1. ],\n",
       "       [1. , 1. , 1. , 2. , 0.5, 0.5, 2. , 1. , 3. , 1. , 1. , 2. , 0.5,\n",
       "        1. , 1. , 1. , 1. , 1. ],\n",
       "       [1. , 1. , 1. , 1. , 1. , 1. , 2. , 1. , 1. , 1. , 2. , 0.5, 1. ,\n",
       "        0.5, 1. , 0.5, 1. , 1. ],\n",
       "       [1. , 0.5, 1. , 2. , 1. , 1. , 2. , 1. , 2. , 0.5, 1. , 1. , 0.5,\n",
       "        1. , 1. , 1. , 1. , 1. ],\n",
       "       [2. , 2. , 0.5, 0.5, 1. , 1. , 0.5, 2. , 0.5, 2. , 1. , 1. , 1. ,\n",
       "        1. , 1. , 1. , 0.5, 1. ],\n",
       "       [3. , 1. , 1. , 1. , 1. , 1. , 3. , 2. , 1. , 1. , 1. , 2. , 1. ,\n",
       "        0.5, 1. , 0.5, 1. , 1. ],\n",
       "       [1. , 2. , 2. , 2. , 2. , 0.5, 1. , 1. , 1. , 1. , 1. , 1. , 1. ,\n",
       "        1. , 0.5, 1. , 1. , 0.5],\n",
       "       [1. , 1. , 1. , 1. , 1. , 1. , 0.5, 1. , 1. , 1. , 3. , 0.5, 1. ,\n",
       "        2. , 1. , 2. , 1. , 0.5],\n",
       "       [2. , 0.5, 1. , 2. , 1. , 2. , 0.5, 3. , 0.5, 2. , 2. , 2. , 2. ,\n",
       "        1. , 2. , 1. , 2. , 2. ],\n",
       "       [1. , 1. , 1. , 1. , 1. , 1. , 2. , 0.5, 1. , 1. , 0.5, 2. , 1. ,\n",
       "        1. , 3. , 2. , 0.5, 1. ]])"
      ]
     },
     "execution_count": 398,
     "metadata": {},
     "output_type": "execute_result"
    }
   ],
   "source": [
    "matrix"
   ]
  },
  {
   "cell_type": "code",
   "execution_count": 400,
   "id": "88c46360-2978-4bb4-b586-d28e317f2418",
   "metadata": {},
   "outputs": [
    {
     "data": {
      "text/plain": [
       "EigResult(eigenvalues=array([20.80993747+0.j        ,  0.36784592+2.98810204j,\n",
       "        0.36784592-2.98810204j, -2.20572725+0.j        ,\n",
       "       -0.44691103+1.86692361j, -0.44691103-1.86692361j,\n",
       "       -0.09446303+1.83392374j, -0.09446303-1.83392374j,\n",
       "        0.72158845+1.57445004j,  0.72158845-1.57445004j,\n",
       "       -0.79886929+0.j        , -0.10737215+1.03450855j,\n",
       "       -0.10737215-1.03450855j,  1.98961422+0.j        ,\n",
       "        1.13535514+0.37449818j,  1.13535514-0.37449818j,\n",
       "        1.52647912+0.19055659j,  1.52647912-0.19055659j]), eigenvectors=array([[-0.22189878+0.00000000e+00j,  0.01403276-4.30764671e-02j,\n",
       "         0.01403276+4.30764671e-02j, -0.63523417+0.00000000e+00j,\n",
       "         0.00091745+1.28207541e-01j,  0.00091745-1.28207541e-01j,\n",
       "         0.04318752+3.90912472e-02j,  0.04318752-3.90912472e-02j,\n",
       "        -0.14567621-2.70880423e-04j, -0.14567621+2.70880423e-04j,\n",
       "        -0.08163537+0.00000000e+00j, -0.23497578+2.05728068e-02j,\n",
       "        -0.23497578-2.05728068e-02j,  0.45855903+0.00000000e+00j,\n",
       "        -0.28955215+6.64929797e-02j, -0.28955215-6.64929797e-02j,\n",
       "        -0.00925937-1.27430992e-01j, -0.00925937+1.27430992e-01j],\n",
       "       [-0.25506306+0.00000000e+00j,  0.32762666+9.43853852e-02j,\n",
       "         0.32762666-9.43853852e-02j, -0.04541543+0.00000000e+00j,\n",
       "        -0.17765635-1.64031315e-01j, -0.17765635+1.64031315e-01j,\n",
       "         0.09707823+7.28137437e-02j,  0.09707823-7.28137437e-02j,\n",
       "         0.45841998+0.00000000e+00j,  0.45841998-0.00000000e+00j,\n",
       "         0.10741121+0.00000000e+00j,  0.13054754-9.07105559e-02j,\n",
       "         0.13054754+9.07105559e-02j, -0.33772214+0.00000000e+00j,\n",
       "        -0.05487048+1.82408309e-01j, -0.05487048-1.82408309e-01j,\n",
       "         0.1089547 +1.53870339e-03j,  0.1089547 -1.53870339e-03j],\n",
       "       [-0.23981182+0.00000000e+00j,  0.05337927-2.93780377e-01j,\n",
       "         0.05337927+2.93780377e-01j, -0.02001141+0.00000000e+00j,\n",
       "        -0.07009737-7.30106838e-02j, -0.07009737+7.30106838e-02j,\n",
       "         0.01162189-1.94361140e-01j,  0.01162189+1.94361140e-01j,\n",
       "        -0.1294595 -1.63658739e-01j, -0.1294595 +1.63658739e-01j,\n",
       "        -0.30091292+0.00000000e+00j, -0.0699185 +3.84877788e-02j,\n",
       "        -0.0699185 -3.84877788e-02j, -0.2816563 +0.00000000e+00j,\n",
       "         0.29243609+1.24006069e-02j,  0.29243609-1.24006069e-02j,\n",
       "         0.52304022+0.00000000e+00j,  0.52304022-0.00000000e+00j],\n",
       "       [-0.21953606+0.00000000e+00j, -0.36061434+0.00000000e+00j,\n",
       "        -0.36061434-0.00000000e+00j,  0.0279332 +0.00000000e+00j,\n",
       "        -0.11772747-5.05400180e-02j, -0.11772747+5.05400180e-02j,\n",
       "         0.08164899+4.13477227e-02j,  0.08164899-4.13477227e-02j,\n",
       "        -0.12703406+1.50880207e-01j, -0.12703406-1.50880207e-01j,\n",
       "         0.15594289+0.00000000e+00j,  0.14909833+2.61437791e-01j,\n",
       "         0.14909833-2.61437791e-01j, -0.21341304+0.00000000e+00j,\n",
       "        -0.15584276+7.43242058e-02j, -0.15584276-7.43242058e-02j,\n",
       "         0.00900437-9.11755463e-02j,  0.00900437+9.11755463e-02j],\n",
       "       [-0.23526909+0.00000000e+00j,  0.13052008-8.39316855e-02j,\n",
       "         0.13052008+8.39316855e-02j, -0.05450349+0.00000000e+00j,\n",
       "         0.04659119-1.19792707e-01j,  0.04659119+1.19792707e-01j,\n",
       "        -0.21446469+8.13865567e-03j, -0.21446469-8.13865567e-03j,\n",
       "         0.06635676+2.72796591e-01j,  0.06635676-2.72796591e-01j,\n",
       "        -0.13123324+0.00000000e+00j,  0.10975361-8.78199358e-03j,\n",
       "         0.10975361+8.78199358e-03j, -0.09678567+0.00000000e+00j,\n",
       "        -0.19594443-1.01201809e-01j, -0.19594443+1.01201809e-01j,\n",
       "        -0.21929685-1.52954731e-02j, -0.21929685+1.52954731e-02j],\n",
       "       [-0.18724802+0.00000000e+00j,  0.01106482+1.13686959e-01j,\n",
       "         0.01106482-1.13686959e-01j,  0.01093942+0.00000000e+00j,\n",
       "         0.07727601+4.34465486e-02j,  0.07727601-4.34465486e-02j,\n",
       "         0.01033065+5.30880564e-02j,  0.01033065-5.30880564e-02j,\n",
       "         0.02311102+6.45295950e-02j,  0.02311102-6.45295950e-02j,\n",
       "         0.17098106+0.00000000e+00j,  0.05784572+1.51541411e-01j,\n",
       "         0.05784572-1.51541411e-01j,  0.03211855+0.00000000e+00j,\n",
       "        -0.19375399-6.38051375e-02j, -0.19375399+6.38051375e-02j,\n",
       "        -0.07407529+1.35488990e-01j, -0.07407529-1.35488990e-01j],\n",
       "       [-0.21814098+0.00000000e+00j, -0.06018997-9.60289773e-02j,\n",
       "        -0.06018997+9.60289773e-02j, -0.02741159+0.00000000e+00j,\n",
       "         0.22689534-6.57770224e-02j,  0.22689534+6.57770224e-02j,\n",
       "        -0.05247321-2.17710711e-01j, -0.05247321+2.17710711e-01j,\n",
       "        -0.00373188+4.65543645e-02j, -0.00373188-4.65543645e-02j,\n",
       "         0.27621511+0.00000000e+00j,  0.11055906+1.03471888e-01j,\n",
       "         0.11055906-1.03471888e-01j,  0.20652531+0.00000000e+00j,\n",
       "         0.12741316-2.44688974e-02j,  0.12741316+2.44688974e-02j,\n",
       "        -0.01261013+7.18782452e-02j, -0.01261013-7.18782452e-02j],\n",
       "       [-0.2468553 +0.00000000e+00j,  0.17708329+1.95802288e-01j,\n",
       "         0.17708329-1.95802288e-01j, -0.05643963+0.00000000e+00j,\n",
       "        -0.14543722-1.90773596e-01j, -0.14543722+1.90773596e-01j,\n",
       "        -0.07803712+3.05452637e-01j, -0.07803712-3.05452637e-01j,\n",
       "         0.22922007-1.04857862e-01j,  0.22922007+1.04857862e-01j,\n",
       "         0.20281862+0.00000000e+00j,  0.28426287-7.09324974e-02j,\n",
       "         0.28426287+7.09324974e-02j, -0.03194286+0.00000000e+00j,\n",
       "         0.37358802-1.41093686e-01j,  0.37358802+1.41093686e-01j,\n",
       "         0.25403338-4.49839732e-02j,  0.25403338+4.49839732e-02j],\n",
       "       [-0.23206181+0.00000000e+00j,  0.03317141-2.98183001e-01j,\n",
       "         0.03317141+2.98183001e-01j, -0.070506  +0.00000000e+00j,\n",
       "        -0.05856524-1.08573155e-01j, -0.05856524+1.08573155e-01j,\n",
       "         0.20546933+3.11014240e-01j,  0.20546933-3.11014240e-01j,\n",
       "         0.10756646-2.79175114e-01j,  0.10756646+2.79175114e-01j,\n",
       "         0.08299515+0.00000000e+00j, -0.1532888 -1.39533820e-01j,\n",
       "        -0.1532888 +1.39533820e-01j,  0.07446505+0.00000000e+00j,\n",
       "        -0.19585091-1.10623192e-01j, -0.19585091+1.10623192e-01j,\n",
       "        -0.39166321+1.03061974e-02j, -0.39166321-1.03061974e-02j],\n",
       "       [-0.24094818+0.00000000e+00j, -0.20548986+1.98794609e-01j,\n",
       "        -0.20548986-1.98794609e-01j,  0.05412835+0.00000000e+00j,\n",
       "        -0.17559433+1.95833073e-01j, -0.17559433-1.95833073e-01j,\n",
       "         0.15262562-3.79588358e-01j,  0.15262562+3.79588358e-01j,\n",
       "        -0.17604174-1.00107643e-01j, -0.17604174+1.00107643e-01j,\n",
       "         0.00230345+0.00000000e+00j, -0.16774001+1.02953609e-01j,\n",
       "        -0.16774001-1.02953609e-01j,  0.06967889+0.00000000e+00j,\n",
       "        -0.19421724-1.21543911e-01j, -0.19421724+1.21543911e-01j,\n",
       "        -0.44371627+4.59063340e-02j, -0.44371627-4.59063340e-02j],\n",
       "       [-0.2060851 +0.00000000e+00j, -0.06676004-3.23779912e-02j,\n",
       "        -0.06676004+3.23779912e-02j,  0.06050857+0.00000000e+00j,\n",
       "        -0.10875989-1.11866160e-01j, -0.10875989+1.11866160e-01j,\n",
       "        -0.02330845+9.69098324e-02j, -0.02330845-9.69098324e-02j,\n",
       "        -0.1513544 -5.49388250e-02j, -0.1513544 +5.49388250e-02j,\n",
       "        -0.27884948+0.00000000e+00j,  0.06104602-8.28454038e-02j,\n",
       "         0.06104602+8.28454038e-02j, -0.15281515+0.00000000e+00j,\n",
       "         0.1660144 +8.81210925e-02j,  0.1660144 -8.81210925e-02j,\n",
       "        -0.00255223+1.20513642e-01j, -0.00255223-1.20513642e-01j],\n",
       "       [-0.21757548+0.00000000e+00j, -0.19137669+1.44332658e-01j,\n",
       "        -0.19137669-1.44332658e-01j,  0.06222375+0.00000000e+00j,\n",
       "        -0.17622845-5.75620000e-02j, -0.17622845+5.75620000e-02j,\n",
       "         0.13671731-6.84476507e-02j,  0.13671731+6.84476507e-02j,\n",
       "        -0.01190614+9.71383129e-02j, -0.01190614-9.71383129e-02j,\n",
       "        -0.59572569+0.00000000e+00j,  0.09113269-8.29778899e-02j,\n",
       "         0.09113269+8.29778899e-02j,  0.05547777+0.00000000e+00j,\n",
       "        -0.03943839-9.28521814e-02j, -0.03943839+9.28521814e-02j,\n",
       "        -0.10738104+1.26865121e-02j, -0.10738104-1.26865121e-02j],\n",
       "       [-0.21939819+0.00000000e+00j,  0.24664745-1.00395019e-01j,\n",
       "         0.24664745+1.00395019e-01j,  0.26220133+0.00000000e+00j,\n",
       "         0.17790489+2.61321020e-01j,  0.17790489-2.61321020e-01j,\n",
       "        -0.02255883+4.39118398e-03j, -0.02255883-4.39118398e-03j,\n",
       "         0.02378885-3.53324196e-01j,  0.02378885+3.53324196e-01j,\n",
       "        -0.00617336+0.00000000e+00j, -0.15036056+1.91133810e-01j,\n",
       "        -0.15036056-1.91133810e-01j,  0.15561007+0.00000000e+00j,\n",
       "        -0.18729646+1.23336299e-01j, -0.18729646-1.23336299e-01j,\n",
       "        -0.16522696+4.80845116e-03j, -0.16522696-4.80845116e-03j],\n",
       "       [-0.25553609+0.00000000e+00j,  0.01671831+3.11388156e-03j,\n",
       "         0.01671831-3.11388156e-03j,  0.65962731+0.00000000e+00j,\n",
       "        -0.0871314 -7.83223377e-02j, -0.0871314 +7.83223377e-02j,\n",
       "        -0.04677352-2.34867144e-03j, -0.04677352+2.34867144e-03j,\n",
       "        -0.060655  -5.63255415e-02j, -0.060655  +5.63255415e-02j,\n",
       "         0.09539954+0.00000000e+00j,  0.09165776-8.65285453e-02j,\n",
       "         0.09165776+8.65285453e-02j,  0.51451639+0.00000000e+00j,\n",
       "        -0.14301213-3.89282401e-02j, -0.14301213+3.89282401e-02j,\n",
       "         0.01245061-9.71837190e-02j,  0.01245061+9.71837190e-02j],\n",
       "       [-0.23240793+0.00000000e+00j, -0.12057042-1.35990598e-01j,\n",
       "        -0.12057042+1.35990598e-01j,  0.03035098+0.00000000e+00j,\n",
       "        -0.20170271+2.94546542e-01j, -0.20170271-2.94546542e-01j,\n",
       "        -0.03938938-1.35662116e-01j, -0.03938938+1.35662116e-01j,\n",
       "         0.10042527-2.86771202e-02j,  0.10042527+2.86771202e-02j,\n",
       "         0.28739676+0.00000000e+00j,  0.22384414-3.24497422e-01j,\n",
       "         0.22384414+3.24497422e-01j, -0.36393997+0.00000000e+00j,\n",
       "        -0.03595105+1.13759429e-01j, -0.03595105-1.13759429e-01j,\n",
       "         0.18737501-1.01517427e-01j,  0.18737501+1.01517427e-01j],\n",
       "       [-0.2295005 +0.00000000e+00j, -0.08292994-3.77815222e-02j,\n",
       "        -0.08292994+3.77815222e-02j, -0.25234047+0.00000000e+00j,\n",
       "         0.08062117+2.23045570e-01j,  0.08062117-2.23045570e-01j,\n",
       "         0.09262069-1.24300964e-01j,  0.09262069+1.24300964e-01j,\n",
       "        -0.16267257+3.11050411e-01j, -0.16267257-3.11050411e-01j,\n",
       "         0.07457775+0.00000000e+00j, -0.24605732+2.56628407e-02j,\n",
       "        -0.24605732-2.56628407e-02j,  0.11868345+0.00000000e+00j,\n",
       "         0.45050704+0.00000000e+00j,  0.45050704-0.00000000e+00j,\n",
       "         0.07621149+1.70373314e-01j,  0.07621149-1.70373314e-01j],\n",
       "       [-0.3200507 +0.00000000e+00j,  0.32001603+1.23335417e-01j,\n",
       "         0.32001603-1.23335417e-01j,  0.01714909+0.00000000e+00j,\n",
       "         0.25459546-5.79796812e-02j,  0.25459546+5.79796812e-02j,\n",
       "         0.17836661+1.61524213e-01j,  0.17836661-1.61524213e-01j,\n",
       "        -0.23290639+8.26728800e-02j, -0.23290639-8.26728800e-02j,\n",
       "         0.26274111+0.00000000e+00j,  0.10273144-2.89541697e-02j,\n",
       "         0.10273144+2.89541697e-02j, -0.11481229+0.00000000e+00j,\n",
       "         0.11158479-5.35251255e-02j,  0.11158479+5.35251255e-02j,\n",
       "         0.15640181-1.24615822e-01j,  0.15640181+1.24615822e-01j],\n",
       "       [-0.23831092+0.00000000e+00j, -0.17198162+2.19937994e-01j,\n",
       "        -0.17198162-2.19937994e-01j,  0.04499309+0.00000000e+00j,\n",
       "         0.5020457 +0.00000000e+00j,  0.5020457 -0.00000000e+00j,\n",
       "        -0.54112118+0.00000000e+00j, -0.54112118-0.00000000e+00j,\n",
       "         0.20730179+2.20864450e-02j,  0.20730179-2.20864450e-02j,\n",
       "        -0.31172812+0.00000000e+00j, -0.5142271 +0.00000000e+00j,\n",
       "        -0.5142271 -0.00000000e+00j, -0.10596165+0.00000000e+00j,\n",
       "         0.16027132+1.19877681e-01j,  0.16027132-1.19877681e-01j,\n",
       "         0.07725204+6.27239418e-02j,  0.07725204-6.27239418e-02j]]))"
      ]
     },
     "execution_count": 400,
     "metadata": {},
     "output_type": "execute_result"
    }
   ],
   "source": [
    "LA.eig(matrix)"
   ]
  },
  {
   "cell_type": "code",
   "execution_count": 399,
   "id": "9aaa6f5c-7882-4963-a53d-edb1be2fed7a",
   "metadata": {},
   "outputs": [],
   "source": [
    "ev = LA.eig(matrix).eigenvectors"
   ]
  },
  {
   "cell_type": "code",
   "execution_count": 417,
   "id": "204e45f3-df14-49b7-9314-1d079615ab1a",
   "metadata": {},
   "outputs": [
    {
     "data": {
      "text/plain": [
       "[1.1851,\n",
       " 1.3622,\n",
       " 1.2807,\n",
       " 1.1724,\n",
       " 1.2565,\n",
       " 1.0,\n",
       " 1.165,\n",
       " 1.3183,\n",
       " 1.2393,\n",
       " 1.2868,\n",
       " 1.1006,\n",
       " 1.162,\n",
       " 1.1717,\n",
       " 1.3647,\n",
       " 1.2412,\n",
       " 1.2256,\n",
       " 1.7092,\n",
       " 1.2727]"
      ]
     },
     "execution_count": 417,
     "metadata": {},
     "output_type": "execute_result"
    }
   ],
   "source": [
    "ans = np.array([x.real  for x in np.matmul(matrix,ev[:,0])])\n",
    "if ans[0] < 0:\n",
    "    ans *= -1\n",
    "ans = ans / min(ans)\n",
    "ans = [round(x,4) for x in ans]\n",
    "ans"
   ]
  },
  {
   "cell_type": "code",
   "execution_count": 418,
   "id": "027f7a15-c020-4fa7-98c2-62b4ba237490",
   "metadata": {},
   "outputs": [],
   "source": [
    "def get_annotated_labels(indices, ans, data, matrix, labels, i, header):\n",
    "    indices = np.array(indices)\n",
    "    vals = np.array([ans[j] * matrix[i][j] for j in range(len(ans))])\n",
    "    indices_sort = reversed(indices[np.argsort(vals[indices])]) if indices.size > 0 else None\n",
    "    if indices_sort is None:\n",
    "        return ''\n",
    "    return header + ': ' + ', '.join(labels[x]+'(' + str(ans[x]) + ')' for x in indices_sort)"
   ]
  },
  {
   "cell_type": "code",
   "execution_count": 419,
   "id": "e6d78098-2d1e-4b13-bf4a-2b45a039c02a",
   "metadata": {},
   "outputs": [],
   "source": [
    "def analyze_defense(ans, data, matrix, labels, i):\n",
    "    str_begin = '{:<9}'.format(labels[i]+':') + ' ' + '{:<6}'.format(str(ans[i]))\n",
    "    strong_indices = np.array([i for i,x in enumerate(data[i]) if x == 'S'])\n",
    "    resisted_indices = np.array([i for i,x in enumerate(data[i]) if x == 'R'])\n",
    "    immune_indices = np.array([i for i,x in enumerate(data[i]) if x == 'I'])\n",
    "    strong_labels=get_annotated_labels(strong_indices, ans, data, matrix, labels, i, 'Strong')\n",
    "    resisted_labels=get_annotated_labels(resisted_indices, ans, data, matrix, labels, i, 'Resisted')\n",
    "    immune_labels=get_annotated_labels(immune_indices, ans, data, matrix, labels, i, 'Immune')\n",
    "    additional_info = [strong_labels, resisted_labels, immune_labels]\n",
    "    additional_info = [x for x in additional_info if x]\n",
    "    return str_begin + '  ' + '\\n                  '.join(additional_info)\n",
    "        "
   ]
  },
  {
   "cell_type": "code",
   "execution_count": 420,
   "id": "781bdc1a-51ab-4c6e-bdcf-8a5ddba4795e",
   "metadata": {},
   "outputs": [
    {
     "name": "stdout",
     "output_type": "stream",
     "text": [
      "Steel:    1.7092  Strong: Fire(1.3622), Ground(1.2393), Fighting(1.165)\n",
      "                  Resisted: Steel(1.7092), Flying(1.2868), Fairy(1.2727), Dragon(1.2412), Normal(1.1851), Grass(1.1724), Rock(1.1717), Bug(1.162), Psychic(1.1006), Ice(1.0)\n",
      "                  Immune: Poison(1.3183)\n",
      "Ghost:    1.3647  Strong: Ghost(1.3647), Dark(1.2256)\n",
      "                  Resisted: Poison(1.3183), Bug(1.162)\n",
      "                  Immune: Normal(1.1851), Fighting(1.165)\n",
      "Fire:     1.3622  Strong: Water(1.2807), Ground(1.2393), Rock(1.1717)\n",
      "                  Resisted: Steel(1.7092), Fire(1.3622), Fairy(1.2727), Grass(1.1724), Bug(1.162), Ice(1.0)\n",
      "Poison:   1.3183  Strong: Ground(1.2393), Psychic(1.1006)\n",
      "                  Resisted: Poison(1.3183), Fairy(1.2727), Grass(1.1724), Fighting(1.165), Bug(1.162)\n",
      "Flying:   1.2868  Strong: Electric(1.2565), Rock(1.1717), Ice(1.0)\n",
      "                  Resisted: Grass(1.1724), Fighting(1.165), Bug(1.162)\n",
      "                  Immune: Ground(1.2393)\n",
      "Water:    1.2807  Strong: Electric(1.2565), Grass(1.1724)\n",
      "                  Resisted: Steel(1.7092), Fire(1.3622), Water(1.2807), Ice(1.0)\n",
      "Fairy:    1.2727  Strong: Steel(1.7092), Poison(1.3183), Psychic(1.1006)\n",
      "                  Resisted: Dark(1.2256), Fighting(1.165), Bug(1.162)\n",
      "                  Immune: Dragon(1.2412)\n",
      "Electric: 1.2565  Strong: Ground(1.2393)\n",
      "                  Resisted: Steel(1.7092), Flying(1.2868), Electric(1.2565)\n",
      "Dragon:   1.2412  Strong: Fairy(1.2727), Dragon(1.2412), Ice(1.0)\n",
      "                  Resisted: Fire(1.3622), Water(1.2807), Electric(1.2565), Grass(1.1724)\n",
      "Ground:   1.2393  Strong: Water(1.2807), Grass(1.1724), Ice(1.0)\n",
      "                  Resisted: Poison(1.3183), Rock(1.1717)\n",
      "                  Immune: Electric(1.2565)\n",
      "Dark:     1.2256  Strong: Fairy(1.2727), Fighting(1.165), Bug(1.162)\n",
      "                  Resisted: Ghost(1.3647), Dark(1.2256)\n",
      "                  Immune: Psychic(1.1006)\n",
      "Normal:   1.1851  Strong: Fighting(1.165)\n",
      "                  Immune: Ghost(1.3647)\n",
      "Grass:    1.1724  Strong: Fire(1.3622), Poison(1.3183), Flying(1.2868), Bug(1.162), Ice(1.0)\n",
      "                  Resisted: Water(1.2807), Electric(1.2565), Ground(1.2393), Grass(1.1724)\n",
      "Rock:     1.1717  Strong: Steel(1.7092), Water(1.2807), Ground(1.2393), Grass(1.1724), Fighting(1.165)\n",
      "                  Resisted: Fire(1.3622), Poison(1.3183), Flying(1.2868), Normal(1.1851)\n",
      "Fighting: 1.165   Strong: Flying(1.2868), Fairy(1.2727), Psychic(1.1006)\n",
      "                  Resisted: Dark(1.2256), Rock(1.1717), Bug(1.162)\n",
      "Bug:      1.162   Strong: Fire(1.3622), Flying(1.2868), Rock(1.1717)\n",
      "                  Resisted: Ground(1.2393), Grass(1.1724), Fighting(1.165)\n",
      "Psychic:  1.1006  Strong: Ghost(1.3647), Dark(1.2256), Bug(1.162)\n",
      "                  Resisted: Fighting(1.165), Psychic(1.1006)\n",
      "Ice:      1.0     Strong: Steel(1.7092), Fire(1.3622), Rock(1.1717), Fighting(1.165)\n",
      "                  Resisted: Ice(1.0)\n"
     ]
    }
   ],
   "source": [
    "analysis = [(x, analyze_defense(ans, data_t, matrix, labels, i)) for i, x in enumerate(ans)]\n",
    "for _, s in sorted(analysis,reverse=True):\n",
    "    print(s)"
   ]
  },
  {
   "cell_type": "markdown",
   "id": "3d8254ea-b772-4456-a29d-f51ffe58e3be",
   "metadata": {},
   "source": [
    "### Real Analysis"
   ]
  },
  {
   "cell_type": "code",
   "execution_count": 609,
   "id": "56980974-780e-4361-9413-651c3a02b6b2",
   "metadata": {},
   "outputs": [],
   "source": [
    "type_chart = '''\n",
    "Normal:   X X X X X X X X X X X X R I X X R X\n",
    "Fire:     X R R S X S X X X X X S R X R X S X\n",
    "Water:    X S R R X X X X S X X X S X R X X X \n",
    "Grass:    X R S R X X X R S R X R S X R X R X\n",
    "Electric: X X S R R X X X I S X X X X R X X X\n",
    "Ice:      X R R S X R X X S S X X X X S X R X\n",
    "Fighting: S X X X X S X R X R R R S I X S S R\n",
    "Poison:   X X X S X X X R R X X X R R X X I S\n",
    "Ground:   X S X R S X X S X I X R S X X X S X\n",
    "Flying:   X X X S R X S X X X X S R X X X R X\n",
    "Psychic:  X X X X X X S S X X R X X X X I R X\n",
    "Bug:      X R X S X X R R X R S X X R X S R R\n",
    "Rock:     X S X X X S R X R S X S X X X X R X\n",
    "Ghost:    I X X X X X X X X X S X X S X R X X\n",
    "Dragon:   X X X X X X X X X X X X X X S X R I\n",
    "Dark:     X X X X X X R X X X S X X S X R X R\n",
    "Steel:    X R R X R S X X X X X X S X X X R S\n",
    "Fairy:    X R X X X X S R X X X X X X S S R X\n",
    "'''.strip()\n",
    "   "
   ]
  },
  {
   "cell_type": "code",
   "execution_count": 610,
   "id": "395d481e-c8cf-4a4b-9e31-7afa5415d71e",
   "metadata": {},
   "outputs": [],
   "source": [
    "labels = []\n",
    "data = []\n",
    "for line in type_chart.split('\\n'):\n",
    "    label, datum = line.split(':')\n",
    "    labels.append(label)\n",
    "    data.append(datum.strip().split())"
   ]
  },
  {
   "cell_type": "code",
   "execution_count": 611,
   "id": "00c44710-d980-47e2-94ee-32aca74c0167",
   "metadata": {},
   "outputs": [],
   "source": [
    "OFFENSIVE_CONSTANT_MAP = {'X': 1, 'R': 0, 'I': -1, 'S': 2}"
   ]
  },
  {
   "cell_type": "code",
   "execution_count": 612,
   "id": "7dc54ca7-159b-4f1b-a962-7e0a0cb963e3",
   "metadata": {},
   "outputs": [],
   "source": [
    "offensive_matrix = np.array([[OFFENSIVE_CONSTANT_MAP[x] for x in line] for line in data])"
   ]
  },
  {
   "cell_type": "code",
   "execution_count": 613,
   "id": "e241bb64-550d-42bf-b962-f4eed9c24ee5",
   "metadata": {},
   "outputs": [],
   "source": [
    "DEFENSIVE_CONSTANT_MAP = {'X': 1, 'R': 2, 'I': 3, 'S': 0}"
   ]
  },
  {
   "cell_type": "code",
   "execution_count": 614,
   "id": "cd1b609f-86db-4c9d-b8a7-e9468695a3dd",
   "metadata": {},
   "outputs": [],
   "source": [
    "data_t = list(map(list, zip(*data)))"
   ]
  },
  {
   "cell_type": "code",
   "execution_count": 615,
   "id": "7541dfbe-54f3-4f0e-be89-7033d5b3d74b",
   "metadata": {},
   "outputs": [],
   "source": [
    "defensive_matrix = np.array([[DEFENSIVE_CONSTANT_MAP[x] for x in line] for line in data_t])"
   ]
  },
  {
   "cell_type": "code",
   "execution_count": 616,
   "id": "d945f1bc-cdb6-4e7f-ac5b-ac6e21c2c4ab",
   "metadata": {},
   "outputs": [],
   "source": [
    "sum_matrix = (offensive_matrix + defensive_matrix)/2"
   ]
  },
  {
   "cell_type": "code",
   "execution_count": 617,
   "id": "ea4629f2-93d9-4dd7-b47e-fc58a1507e37",
   "metadata": {},
   "outputs": [],
   "source": [
    "ev = LA.eig(matrix).eigenvectors"
   ]
  },
  {
   "cell_type": "code",
   "execution_count": 618,
   "id": "bc4137e2-d317-4993-847b-c7bf248224e1",
   "metadata": {},
   "outputs": [],
   "source": [
    "ans = np.array([x.real  for x in np.matmul(sum_matrix,ev[:,0])])\n",
    "if ans[0] < 0:\n",
    "    ans *= -1\n",
    "ans = ans / min(ans)\n",
    "ans = [round(x,4) for x in ans]"
   ]
  },
  {
   "cell_type": "code",
   "execution_count": 655,
   "id": "17b84742-ee45-4e6e-936c-d9ea0b96021d",
   "metadata": {},
   "outputs": [],
   "source": [
    "def get_explanations(indices, ans, matrix, labels, i, header):\n",
    "    vals = np.array([ans[j] * matrix[i][j] for j in range(len(ans))])\n",
    "    return [(vals[idx]-ans[idx], header+labels[idx]+'(' + str(ans[idx])+')') for idx in indices]\n",
    "    #return [(vals[idx]-ans[idx], header+labels[idx]+'(' + str(ans[idx])+')'+' value:'+str(vals[idx]-ans[idx])) for idx in indices]"
   ]
  },
  {
   "cell_type": "code",
   "execution_count": 659,
   "id": "a71e261d-9bea-42f2-b83e-a2c7514433fd",
   "metadata": {},
   "outputs": [],
   "source": [
    "def get_highlights(ans, data, data_t, offensive_matrix, defensive_matrix, labels, i):\n",
    "    str_begin = '{:<9}'.format(labels[i]+':') + ' ' + '{:<6}'.format(str(ans[i]))\n",
    "    strong_indices = np.array([i for i,x in enumerate(data[i]) if x == 'S'])\n",
    "    resisted_indices = np.array([i for i,x in enumerate(data[i]) if x == 'R'])\n",
    "    immune_indices = np.array([i for i,x in enumerate(data[i]) if x == 'I'])\n",
    "    strong_indices2 = np.array([i for i,x in enumerate(data_t[i]) if x == 'S'])\n",
    "    resisted_indices2 = np.array([i for i,x in enumerate(data_t[i]) if x == 'R'])\n",
    "    immune_indices2 = np.array([i for i,x in enumerate(data_t[i]) if x == 'I'])\n",
    "    good_explanations = []\n",
    "    bad_explanations = []\n",
    "    good_explanations.extend(get_explanations(strong_indices, ans, offensive_matrix, labels, i, 'Strong against '))\n",
    "    good_explanations.extend(get_explanations(resisted_indices2, ans, defensive_matrix, labels, i, 'Resists '))\n",
    "    good_explanations.extend(get_explanations(immune_indices2, ans, defensive_matrix, labels, i, 'Immune to '))\n",
    "    bad_explanations.extend(get_explanations(strong_indices2, ans, defensive_matrix, labels, i, 'Weak to '))\n",
    "    bad_explanations.extend(get_explanations(resisted_indices, ans, offensive_matrix, labels, i, 'Resisted by '))\n",
    "    bad_explanations.extend(get_explanations(immune_indices, ans, offensive_matrix, labels, i, 'No effect against '))\n",
    "    good_explanations.sort(reverse=True)\n",
    "    bad_explanations.sort()\n",
    "    good_explanations = good_explanations[:4]\n",
    "    bad_explanations = bad_explanations[:4]\n",
    "    return str_begin + '   Highlights: ' + ', '.join(x[1] for x in good_explanations)+ \\\n",
    "                       '\\n' + (' ' * 19) + 'Lowlights:  ' + ', '.join(x[1] for x in bad_explanations)\n",
    "    '''return str_begin + '   Highlights: ' + ('\\n' + ' '*31).join(x[1] for x in good_explanations)+ \\\n",
    "                       '\\n' + (' ' * 19) + 'Lowlights:  ' + ('\\n' + ' '*31).join(x[1] for x in bad_explanations)'''"
   ]
  },
  {
   "cell_type": "code",
   "execution_count": 660,
   "id": "62c96be1-ba06-4996-a351-f2a7ea9aa148",
   "metadata": {},
   "outputs": [
    {
     "name": "stdout",
     "output_type": "stream",
     "text": [
      "Steel:    1.4113   Highlights: Immune to Poison(1.1155), Resists Steel(1.4113), Strong against Fairy(1.2348), Resists Fairy(1.2348)\n",
      "                   Lowlights:  Resisted by Steel(1.4113), Resisted by Fire(1.2799), Weak to Fire(1.2799), Weak to Ground(1.2664)\n",
      "\n",
      "Fire:     1.2799   Highlights: Strong against Steel(1.4113), Resists Steel(1.4113), Resists Fire(1.2799), Resists Fairy(1.2348)\n",
      "                   Lowlights:  Resisted by Fire(1.2799), Weak to Ground(1.2664), Resisted by Water(1.2545), Weak to Water(1.2545)\n",
      "\n",
      "Ground:   1.2664   Highlights: Immune to Electric(1.1612), Strong against Steel(1.4113), Strong against Fire(1.2799), Strong against Electric(1.1612)\n",
      "                   Lowlights:  No effect against Flying(1.226), Weak to Water(1.2545), Weak to Ice(1.0502), Resisted by Bug(1.0135)\n",
      "\n",
      "Ghost:    1.2664   Highlights: Immune to Fighting(1.1061), Immune to Normal(1.0704), Strong against Ghost(1.2664), Resists Poison(1.1155)\n",
      "                   Lowlights:  No effect against Normal(1.0704), Weak to Ghost(1.2664), Resisted by Dark(1.1759), Weak to Dark(1.1759)\n",
      "\n",
      "Water:    1.2545   Highlights: Resists Steel(1.4113), Strong against Fire(1.2799), Resists Fire(1.2799), Strong against Ground(1.2664)\n",
      "                   Lowlights:  Resisted by Water(1.2545), Weak to Electric(1.1612), Resisted by Dragon(1.138), Resisted by Grass(1.0)\n",
      "\n",
      "Fairy:    1.2348   Highlights: Immune to Dragon(1.138), Strong against Dark(1.1759), Resists Dark(1.1759), Strong against Dragon(1.138)\n",
      "                   Lowlights:  Resisted by Steel(1.4113), Weak to Steel(1.4113), Resisted by Fire(1.2799), Resisted by Poison(1.1155)\n",
      "\n",
      "Flying:   1.226    Highlights: Immune to Ground(1.2664), Strong against Fighting(1.1061), Resists Fighting(1.1061), Strong against Bug(1.0135)\n",
      "                   Lowlights:  Resisted by Steel(1.4113), Resisted by Electric(1.1612), Weak to Electric(1.1612), Resisted by Rock(1.1573)\n",
      "\n",
      "Dark:     1.1759   Highlights: Immune to Psychic(1.0647), Strong against Ghost(1.2664), Resists Ghost(1.2664), Resists Dark(1.1759)\n",
      "                   Lowlights:  Resisted by Fairy(1.2348), Weak to Fairy(1.2348), Resisted by Dark(1.1759), Resisted by Fighting(1.1061)\n",
      "\n",
      "Electric: 1.1612   Highlights: Resists Steel(1.4113), Strong against Water(1.2545), Strong against Flying(1.226), Resists Flying(1.226)\n",
      "                   Lowlights:  No effect against Ground(1.2664), Weak to Ground(1.2664), Resisted by Electric(1.1612), Resisted by Dragon(1.138)\n",
      "\n",
      "Rock:     1.1573   Highlights: Strong against Fire(1.2799), Resists Fire(1.2799), Strong against Flying(1.226), Resists Flying(1.226)\n",
      "                   Lowlights:  Resisted by Steel(1.4113), Weak to Steel(1.4113), Resisted by Ground(1.2664), Weak to Ground(1.2664)\n",
      "\n",
      "Dragon:   1.138    Highlights: Resists Fire(1.2799), Resists Water(1.2545), Resists Electric(1.1612), Strong against Dragon(1.138)\n",
      "                   Lowlights:  No effect against Fairy(1.2348), Resisted by Steel(1.4113), Weak to Fairy(1.2348), Weak to Dragon(1.138)\n",
      "\n",
      "Poison:   1.1155   Highlights: Strong against Fairy(1.2348), Resists Fairy(1.2348), Resists Poison(1.1155), Resists Fighting(1.1061)\n",
      "                   Lowlights:  No effect against Steel(1.4113), Resisted by Ghost(1.2664), Resisted by Ground(1.2664), Weak to Ground(1.2664)\n",
      "\n",
      "Fighting: 1.1061   Highlights: Strong against Steel(1.4113), Strong against Dark(1.1759), Resists Dark(1.1759), Strong against Rock(1.1573)\n",
      "                   Lowlights:  No effect against Ghost(1.2664), Resisted by Fairy(1.2348), Weak to Fairy(1.2348), Resisted by Flying(1.226)\n",
      "\n",
      "Normal:   1.0704   Highlights: Immune to Ghost(1.2664)\n",
      "                   Lowlights:  No effect against Ghost(1.2664), Resisted by Steel(1.4113), Resisted by Rock(1.1573), Weak to Fighting(1.1061)\n",
      "\n",
      "Psychic:  1.0647   Highlights: Strong against Poison(1.1155), Strong against Fighting(1.1061), Resists Fighting(1.1061), Resists Psychic(1.0647)\n",
      "                   Lowlights:  No effect against Dark(1.1759), Resisted by Steel(1.4113), Weak to Ghost(1.2664), Weak to Dark(1.1759)\n",
      "\n",
      "Ice:      1.0502   Highlights: Strong against Ground(1.2664), Strong against Flying(1.226), Strong against Dragon(1.138), Resists Ice(1.0502)\n",
      "                   Lowlights:  Resisted by Steel(1.4113), Weak to Steel(1.4113), Resisted by Fire(1.2799), Weak to Fire(1.2799)\n",
      "\n",
      "Bug:      1.0135   Highlights: Resists Ground(1.2664), Strong against Dark(1.1759), Resists Fighting(1.1061), Strong against Psychic(1.0647)\n",
      "                   Lowlights:  Resisted by Steel(1.4113), Resisted by Fire(1.2799), Weak to Fire(1.2799), Resisted by Ghost(1.2664)\n",
      "\n",
      "Grass:    1.0      Highlights: Strong against Ground(1.2664), Resists Ground(1.2664), Strong against Water(1.2545), Resists Water(1.2545)\n",
      "                   Lowlights:  Resisted by Steel(1.4113), Resisted by Fire(1.2799), Weak to Fire(1.2799), Resisted by Flying(1.226)\n",
      "\n"
     ]
    }
   ],
   "source": [
    "analysis = [(x, get_highlights(ans, data, data_t, offensive_matrix, defensive_matrix, labels, i)) for i, x in enumerate(ans)]\n",
    "for _, s in sorted(analysis,reverse=True):\n",
    "    print(s + \"\\n\")"
   ]
  },
  {
   "cell_type": "code",
   "execution_count": 578,
   "id": "5330c5ce-69d4-4468-a501-4a126b734bdc",
   "metadata": {},
   "outputs": [],
   "source": [
    "def get_annotated_labels(indices, ans, matrix, labels, i, header):\n",
    "    indices = np.array(indices)\n",
    "    vals = np.array([ans[j] * matrix[i][j] for j in range(len(ans))])\n",
    "    indices_sort = reversed(indices[np.argsort(vals[indices])]) if indices.size > 0 else None\n",
    "    if indices_sort is None:\n",
    "        return ''\n",
    "    return header + ': ' + ', '.join(labels[x]+'(' + str(ans[x]) + ')' for x in indices_sort)"
   ]
  },
  {
   "cell_type": "code",
   "execution_count": 574,
   "id": "d8ddfeea-7d51-48b2-a83b-5007dfe7c979",
   "metadata": {},
   "outputs": [],
   "source": [
    "def analyze_sum(ans, data, data_t, matrix, labels, i):\n",
    "    str_begin = '{:<9}'.format(labels[i]+':') + ' ' + '{:<6}'.format(str(ans[i]))\n",
    "    strong_indices = np.array([i for i,x in enumerate(data[i]) if x == 'S'])\n",
    "    resisted_indices = np.array([i for i,x in enumerate(data[i]) if x == 'R'])\n",
    "    immune_indices = np.array([i for i,x in enumerate(data[i]) if x == 'I'])\n",
    "    strong_labels=get_annotated_labels(strong_indices, ans, matrix, labels, i, 'Super Effective')\n",
    "    resisted_labels=get_annotated_labels(resisted_indices, ans, matrix, labels, i, 'Resisted')\n",
    "    immune_labels=get_annotated_labels(immune_indices, ans, matrix, labels, i, 'Immune')\n",
    "    strong_indices2 = np.array([i for i,x in enumerate(data_t[i]) if x == 'S'])\n",
    "    resisted_indices2 = np.array([i for i,x in enumerate(data_t[i]) if x == 'R'])\n",
    "    immune_indices2 = np.array([i for i,x in enumerate(data_t[i]) if x == 'I'])\n",
    "    strong_labels2=get_annotated_labels(strong_indices2, ans, sum_matrix, labels, i, 'Weak')\n",
    "    resisted_labels2=get_annotated_labels(resisted_indices2, ans, sum_matrix, labels, i, 'Resists')\n",
    "    immune_labels2=get_annotated_labels(immune_indices2, ans, sum_matrix, labels, i, 'Immune Against')\n",
    "    additional_info = [strong_labels, resisted_labels, immune_labels, strong_labels2, resisted_labels2, immune_labels2]\n",
    "    additional_info = [x for x in additional_info if x]\n",
    "    return str_begin + '  ' + '\\n                  '.join(additional_info)"
   ]
  },
  {
   "cell_type": "code",
   "execution_count": 575,
   "id": "7ebdab60-d1aa-41f6-bdfd-d9ca9f2701df",
   "metadata": {},
   "outputs": [
    {
     "name": "stdout",
     "output_type": "stream",
     "text": [
      "Ground:   2.514   Super Effective: Rock(2.0204), Fire(2.1803), Steel(1.9909), Electric(1.5861), Poison(1.5195)\n",
      "                  Resisted: Bug(1.6298), Grass(1.6549)\n",
      "                  Immune: Flying(1.8285)\n",
      "                  Weak: Ice(1.9454), Water(1.9085), Grass(1.6549)\n",
      "                  Resists: Rock(2.0204), Poison(1.5195)\n",
      "                  Immune Against: Electric(1.5861)\n",
      "Fighting: 2.2615  Super Effective: Rock(2.0204), Steel(1.9909), Ice(1.9454), Dark(1.5798), Normal(1.0)\n",
      "                  Resisted: Bug(1.6298), Poison(1.5195), Fairy(1.8626), Psychic(1.4794), Flying(1.8285)\n",
      "                  Immune: Ghost(1.6644)\n",
      "                  Weak: Fairy(1.8626), Psychic(1.4794), Flying(1.8285)\n",
      "                  Resists: Rock(2.0204), Dark(1.5798), Bug(1.6298)\n",
      "Fire:     2.1803  Super Effective: Steel(1.9909), Ice(1.9454), Grass(1.6549), Bug(1.6298)\n",
      "                  Resisted: Fire(2.1803), Dragon(1.3055), Rock(2.0204), Water(1.9085)\n",
      "                  Weak: Ground(2.514), Rock(2.0204), Water(1.9085)\n",
      "                  Resists: Steel(1.9909), Ice(1.9454), Grass(1.6549), Bug(1.6298), Fairy(1.8626), Fire(2.1803)\n",
      "Rock:     2.0204  Super Effective: Fire(2.1803), Flying(1.8285), Ice(1.9454), Bug(1.6298)\n",
      "                  Resisted: Steel(1.9909), Ground(2.514), Fighting(2.2615)\n",
      "                  Weak: Water(1.9085), Grass(1.6549), Steel(1.9909), Ground(2.514), Fighting(2.2615)\n",
      "                  Resists: Fire(2.1803), Flying(1.8285), Poison(1.5195), Normal(1.0)\n",
      "Steel:    1.9909  Super Effective: Rock(2.0204), Ice(1.9454), Fairy(1.8626)\n",
      "                  Resisted: Steel(1.9909), Water(1.9085), Electric(1.5861), Fire(2.1803)\n",
      "                  Weak: Ground(2.514), Fighting(2.2615), Fire(2.1803)\n",
      "                  Resists: Rock(2.0204), Ice(1.9454), Fairy(1.8626), Flying(1.8285), Grass(1.6549), Bug(1.6298), Psychic(1.4794), Steel(1.9909), Dragon(1.3055), Normal(1.0)\n",
      "                  Immune Against: Poison(1.5195)\n",
      "Ice:      1.9454  Super Effective: Ground(2.514), Flying(1.8285), Grass(1.6549), Dragon(1.3055)\n",
      "                  Resisted: Ice(1.9454), Water(1.9085), Steel(1.9909), Fire(2.1803)\n",
      "                  Weak: Fighting(2.2615), Rock(2.0204), Steel(1.9909), Fire(2.1803)\n",
      "                  Resists: Ice(1.9454)\n",
      "Water:    1.9085  Super Effective: Ground(2.514), Fire(2.1803), Rock(2.0204)\n",
      "                  Resisted: Water(1.9085), Dragon(1.3055), Grass(1.6549)\n",
      "                  Weak: Electric(1.5861), Grass(1.6549)\n",
      "                  Resists: Fire(2.1803), Steel(1.9909), Ice(1.9454), Water(1.9085)\n",
      "Fairy:    1.8626  Super Effective: Fighting(2.2615), Dark(1.5798), Dragon(1.3055)\n",
      "                  Resisted: Fire(2.1803), Steel(1.9909), Poison(1.5195)\n",
      "                  Weak: Steel(1.9909), Poison(1.5195)\n",
      "                  Resists: Fighting(2.2615), Dark(1.5798), Bug(1.6298)\n",
      "                  Immune Against: Dragon(1.3055)\n",
      "Flying:   1.8285  Super Effective: Fighting(2.2615), Grass(1.6549), Bug(1.6298)\n",
      "                  Resisted: Steel(1.9909), Rock(2.0204), Electric(1.5861)\n",
      "                  Weak: Ice(1.9454), Rock(2.0204), Electric(1.5861)\n",
      "                  Resists: Fighting(2.2615), Grass(1.6549), Bug(1.6298)\n",
      "                  Immune Against: Ground(2.514)\n",
      "Ghost:    1.6644  Super Effective: Ghost(1.6644), Psychic(1.4794)\n",
      "                  Resisted: Dark(1.5798)\n",
      "                  Immune: Normal(1.0)\n",
      "                  Weak: Ghost(1.6644), Dark(1.5798)\n",
      "                  Resists: Bug(1.6298), Poison(1.5195)\n",
      "                  Immune Against: Fighting(2.2615), Normal(1.0)\n",
      "Grass:    1.6549  Super Effective: Ground(2.514), Water(1.9085), Rock(2.0204)\n",
      "                  Resisted: Grass(1.6549), Steel(1.9909), Dragon(1.3055), Bug(1.6298), Flying(1.8285), Poison(1.5195), Fire(2.1803)\n",
      "                  Weak: Ice(1.9454), Bug(1.6298), Flying(1.8285), Poison(1.5195), Fire(2.1803)\n",
      "                  Resists: Ground(2.514), Water(1.9085), Electric(1.5861), Grass(1.6549)\n",
      "Bug:      1.6298  Super Effective: Grass(1.6549), Dark(1.5798), Psychic(1.4794)\n",
      "                  Resisted: Fighting(2.2615), Steel(1.9909), Fairy(1.8626), Ghost(1.6644), Poison(1.5195), Flying(1.8285), Fire(2.1803)\n",
      "                  Weak: Rock(2.0204), Flying(1.8285), Fire(2.1803)\n",
      "                  Resists: Grass(1.6549), Ground(2.514), Fighting(2.2615)\n",
      "Electric: 1.5861  Super Effective: Flying(1.8285), Water(1.9085)\n",
      "                  Resisted: Electric(1.5861), Grass(1.6549), Dragon(1.3055)\n",
      "                  Immune: Ground(2.514)\n",
      "                  Weak: Ground(2.514)\n",
      "                  Resists: Flying(1.8285), Steel(1.9909), Electric(1.5861)\n",
      "Dark:     1.5798  Super Effective: Ghost(1.6644), Psychic(1.4794)\n",
      "                  Resisted: Dark(1.5798), Fairy(1.8626), Fighting(2.2615)\n",
      "                  Weak: Bug(1.6298), Fairy(1.8626), Fighting(2.2615)\n",
      "                  Resists: Ghost(1.6644), Dark(1.5798)\n",
      "                  Immune Against: Psychic(1.4794)\n",
      "Poison:   1.5195  Super Effective: Fairy(1.8626), Grass(1.6549)\n",
      "                  Resisted: Poison(1.5195), Rock(2.0204), Ghost(1.6644), Ground(2.514)\n",
      "                  Immune: Steel(1.9909)\n",
      "                  Weak: Psychic(1.4794), Ground(2.514)\n",
      "                  Resists: Fairy(1.8626), Grass(1.6549), Fighting(2.2615), Bug(1.6298), Poison(1.5195)\n",
      "Psychic:  1.4794  Super Effective: Fighting(2.2615), Poison(1.5195)\n",
      "                  Resisted: Psychic(1.4794), Steel(1.9909)\n",
      "                  Immune: Dark(1.5798)\n",
      "                  Weak: Ghost(1.6644), Bug(1.6298), Dark(1.5798)\n",
      "                  Resists: Fighting(2.2615), Psychic(1.4794)\n",
      "Dragon:   1.3055  Super Effective: Dragon(1.3055)\n",
      "                  Resisted: Steel(1.9909)\n",
      "                  Immune: Fairy(1.8626)\n",
      "                  Weak: Dragon(1.3055), Ice(1.9454), Fairy(1.8626)\n",
      "                  Resists: Fire(2.1803), Water(1.9085), Grass(1.6549), Electric(1.5861)\n",
      "Normal:   1.0     Resisted: Rock(2.0204), Steel(1.9909)\n",
      "                  Immune: Ghost(1.6644)\n",
      "                  Weak: Fighting(2.2615)\n",
      "                  Immune Against: Ghost(1.6644)\n"
     ]
    }
   ],
   "source": [
    "analysis = [(x, analyze_sum(ans, data, data_t, sum_matrix, labels, i)) for i, x in enumerate(ans)]\n",
    "for _, s in sorted(analysis,reverse=True):\n",
    "    print(s)"
   ]
  },
  {
   "cell_type": "code",
   "execution_count": null,
   "id": "3d7a04b6-894b-4dbe-8375-c86a4d1ba85d",
   "metadata": {},
   "outputs": [],
   "source": []
  },
  {
   "cell_type": "code",
   "execution_count": null,
   "id": "19a2beed-2776-4c95-9870-bb4fcafd129c",
   "metadata": {},
   "outputs": [],
   "source": []
  }
 ],
 "metadata": {
  "kernelspec": {
   "display_name": "Python 3 (ipykernel)",
   "language": "python",
   "name": "python3"
  },
  "language_info": {
   "codemirror_mode": {
    "name": "ipython",
    "version": 3
   },
   "file_extension": ".py",
   "mimetype": "text/x-python",
   "name": "python",
   "nbconvert_exporter": "python",
   "pygments_lexer": "ipython3",
   "version": "3.11.6"
  }
 },
 "nbformat": 4,
 "nbformat_minor": 5
}
